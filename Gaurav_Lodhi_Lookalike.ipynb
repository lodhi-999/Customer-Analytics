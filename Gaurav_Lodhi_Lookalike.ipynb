{
 "cells": [
  {
   "cell_type": "code",
   "execution_count": 1,
   "metadata": {},
   "outputs": [],
   "source": [
    "# Importing necessary libraries\n",
    "import pandas as pd\n",
    "import numpy as np\n",
    "from sklearn.metrics.pairwise import cosine_similarity\n",
    "from sklearn.preprocessing import StandardScaler"
   ]
  },
  {
   "cell_type": "code",
   "execution_count": 5,
   "metadata": {},
   "outputs": [
    {
     "data": {
      "text/html": [
       "<div>\n",
       "<style scoped>\n",
       "    .dataframe tbody tr th:only-of-type {\n",
       "        vertical-align: middle;\n",
       "    }\n",
       "\n",
       "    .dataframe tbody tr th {\n",
       "        vertical-align: top;\n",
       "    }\n",
       "\n",
       "    .dataframe thead th {\n",
       "        text-align: right;\n",
       "    }\n",
       "</style>\n",
       "<table border=\"1\" class=\"dataframe\">\n",
       "  <thead>\n",
       "    <tr style=\"text-align: right;\">\n",
       "      <th></th>\n",
       "      <th>ProductID</th>\n",
       "      <th>ProductName</th>\n",
       "      <th>Category</th>\n",
       "      <th>Price</th>\n",
       "    </tr>\n",
       "  </thead>\n",
       "  <tbody>\n",
       "    <tr>\n",
       "      <th>0</th>\n",
       "      <td>P001</td>\n",
       "      <td>ActiveWear Biography</td>\n",
       "      <td>Books</td>\n",
       "      <td>169.30</td>\n",
       "    </tr>\n",
       "    <tr>\n",
       "      <th>1</th>\n",
       "      <td>P002</td>\n",
       "      <td>ActiveWear Smartwatch</td>\n",
       "      <td>Electronics</td>\n",
       "      <td>346.30</td>\n",
       "    </tr>\n",
       "    <tr>\n",
       "      <th>2</th>\n",
       "      <td>P003</td>\n",
       "      <td>ComfortLiving Biography</td>\n",
       "      <td>Books</td>\n",
       "      <td>44.12</td>\n",
       "    </tr>\n",
       "    <tr>\n",
       "      <th>3</th>\n",
       "      <td>P004</td>\n",
       "      <td>BookWorld Rug</td>\n",
       "      <td>Home Decor</td>\n",
       "      <td>95.69</td>\n",
       "    </tr>\n",
       "    <tr>\n",
       "      <th>4</th>\n",
       "      <td>P005</td>\n",
       "      <td>TechPro T-Shirt</td>\n",
       "      <td>Clothing</td>\n",
       "      <td>429.31</td>\n",
       "    </tr>\n",
       "    <tr>\n",
       "      <th>...</th>\n",
       "      <td>...</td>\n",
       "      <td>...</td>\n",
       "      <td>...</td>\n",
       "      <td>...</td>\n",
       "    </tr>\n",
       "    <tr>\n",
       "      <th>95</th>\n",
       "      <td>P096</td>\n",
       "      <td>SoundWave Headphones</td>\n",
       "      <td>Electronics</td>\n",
       "      <td>307.47</td>\n",
       "    </tr>\n",
       "    <tr>\n",
       "      <th>96</th>\n",
       "      <td>P097</td>\n",
       "      <td>BookWorld Cookbook</td>\n",
       "      <td>Books</td>\n",
       "      <td>319.34</td>\n",
       "    </tr>\n",
       "    <tr>\n",
       "      <th>97</th>\n",
       "      <td>P098</td>\n",
       "      <td>SoundWave Laptop</td>\n",
       "      <td>Electronics</td>\n",
       "      <td>299.93</td>\n",
       "    </tr>\n",
       "    <tr>\n",
       "      <th>98</th>\n",
       "      <td>P099</td>\n",
       "      <td>SoundWave Mystery Book</td>\n",
       "      <td>Books</td>\n",
       "      <td>354.29</td>\n",
       "    </tr>\n",
       "    <tr>\n",
       "      <th>99</th>\n",
       "      <td>P100</td>\n",
       "      <td>HomeSense Sweater</td>\n",
       "      <td>Clothing</td>\n",
       "      <td>126.34</td>\n",
       "    </tr>\n",
       "  </tbody>\n",
       "</table>\n",
       "<p>100 rows × 4 columns</p>\n",
       "</div>"
      ],
      "text/plain": [
       "   ProductID              ProductName     Category   Price\n",
       "0       P001     ActiveWear Biography        Books  169.30\n",
       "1       P002    ActiveWear Smartwatch  Electronics  346.30\n",
       "2       P003  ComfortLiving Biography        Books   44.12\n",
       "3       P004            BookWorld Rug   Home Decor   95.69\n",
       "4       P005          TechPro T-Shirt     Clothing  429.31\n",
       "..       ...                      ...          ...     ...\n",
       "95      P096     SoundWave Headphones  Electronics  307.47\n",
       "96      P097       BookWorld Cookbook        Books  319.34\n",
       "97      P098         SoundWave Laptop  Electronics  299.93\n",
       "98      P099   SoundWave Mystery Book        Books  354.29\n",
       "99      P100        HomeSense Sweater     Clothing  126.34\n",
       "\n",
       "[100 rows x 4 columns]"
      ]
     },
     "execution_count": 5,
     "metadata": {},
     "output_type": "execute_result"
    }
   ],
   "source": [
    "# Loading 7 Reading datasets\n",
    "transactions = pd.read_csv('Transactions.csv')\n",
    "products = pd.read_csv('Products.csv')\n",
    "customers = pd.read_csv('Customers.csv')\n",
    "products"
   ]
  },
  {
   "cell_type": "markdown",
   "metadata": {},
   "source": [
    "# Data Preprocessing\n",
    "### Merging datasets for enriched analysis"
   ]
  },
  {
   "cell_type": "code",
   "execution_count": 23,
   "metadata": {},
   "outputs": [],
   "source": [
    "\n",
    "\n",
    "merged_data = pd.merge(transactions, products, on='ProductID', how='left')\n",
    "merged_data = pd.merge(merged_data, customers, on='CustomerID', how='left')"
   ]
  },
  {
   "cell_type": "markdown",
   "metadata": {},
   "source": [
    "# Feature Engineering part\n",
    "\n",
    "###  Creating customer profiles by aggregating transaction and product data"
   ]
  },
  {
   "cell_type": "code",
   "execution_count": 16,
   "metadata": {},
   "outputs": [],
   "source": [
    "\n",
    "customer_profiles = merged_data.groupby('CustomerID').agg({\n",
    "    'TotalValue': 'sum',\n",
    "    'Quantity': 'sum',\n",
    "    'ProductID': 'count',  # Count of unique products bought\n",
    "    'Category': lambda x: ','.join(x.unique())  # Concatenating unique categories\n",
    "}).reset_index()\n",
    "\n",
    "# Calculating average price per transaction \n",
    "customer_profiles['AveragePrice'] = customer_profiles['TotalValue'] / customer_profiles['Quantity']\n",
    "\n",
    "# Encoding Categorical data\n",
    "customer_profiles = pd.get_dummies(customer_profiles, columns=['Category'], prefix='', prefix_sep='')"
   ]
  },
  {
   "cell_type": "markdown",
   "metadata": {},
   "source": [
    "# Standardizing numerical features "
   ]
  },
  {
   "cell_type": "code",
   "execution_count": 17,
   "metadata": {},
   "outputs": [],
   "source": [
    "\n",
    "scaler = StandardScaler()\n",
    "scaled_features = scaler.fit_transform(customer_profiles.drop(['CustomerID'], axis=1))"
   ]
  },
  {
   "cell_type": "markdown",
   "metadata": {},
   "source": [
    "# Computing Similarity Matrix"
   ]
  },
  {
   "cell_type": "code",
   "execution_count": 18,
   "metadata": {},
   "outputs": [],
   "source": [
    "\n",
    "similarity_matrix = cosine_similarity(scaled_features)"
   ]
  },
  {
   "cell_type": "code",
   "execution_count": 19,
   "metadata": {},
   "outputs": [],
   "source": [
    "# Maping Customer IDs to indices for lookup\n",
    "customer_id_to_index = {customer_id: idx for idx, customer_id in enumerate(customer_profiles['CustomerID'])}\n",
    "index_to_customer_id = {idx: customer_id for customer_id, idx in customer_id_to_index.items()}"
   ]
  },
  {
   "cell_type": "markdown",
   "metadata": {},
   "source": [
    "# Generating Lookalike Recommendations"
   ]
  },
  {
   "cell_type": "code",
   "execution_count": 20,
   "metadata": {},
   "outputs": [],
   "source": [
    "lookalike_map = {}\n",
    "for customer_id in customers['CustomerID'][:20]:  # First 20 customers(C0001-C0020)\n",
    "    if customer_id in customer_id_to_index:\n",
    "        customer_idx = customer_id_to_index[customer_id]\n",
    "        similarity_scores = list(enumerate(similarity_matrix[customer_idx]))\n",
    "        similarity_scores = sorted(similarity_scores, key=lambda x: x[1], reverse=True)\n",
    "\n",
    "        # Get top 3 similar customers excluding the customer itself\n",
    "        top_similars = [\n",
    "            (index_to_customer_id[idx], score)\n",
    "            for idx, score in similarity_scores[1:4]  # Skip the first (self-similarity)\n",
    "        ]\n",
    "\n",
    "        lookalike_map[customer_id] = top_similars"
   ]
  },
  {
   "cell_type": "markdown",
   "metadata": {},
   "source": [
    "# Saving the Lookalike Map to CSV file"
   ]
  },
  {
   "cell_type": "code",
   "execution_count": 21,
   "metadata": {},
   "outputs": [],
   "source": [
    "\n",
    "lookalike_list = []\n",
    "for cust_id, similars in lookalike_map.items():\n",
    "    for similar_cust_id, score in similars:\n",
    "        lookalike_list.append({\n",
    "            'CustomerID': cust_id,\n",
    "            'SimilarCustomerID': similar_cust_id,\n",
    "            'SimilarityScore': score\n",
    "        })\n",
    "\n",
    "lookalike_df = pd.DataFrame(lookalike_list)\n",
    "lookalike_df.to_csv('Lookalike.csv', index=False)"
   ]
  },
  {
   "cell_type": "markdown",
   "metadata": {},
   "source": [
    "# Summary of the model logic and implementation\n",
    "# 1. Customer profiles are created by aggregating transaction data and encoding product categories.\n",
    "# 2. Numerical features are standardized for unbiased similarity calculations.\n",
    "# 3. Cosine similarity is used to identify similar customers based on their profiles.\n",
    "# 4. Top 3 similar customers are recommended for the first 20 customers (C0001-C0020)."
   ]
  },
  {
   "cell_type": "code",
   "execution_count": 22,
   "metadata": {},
   "outputs": [
    {
     "name": "stdout",
     "output_type": "stream",
     "text": [
      "Lookalike Map: CustomerID -> List of (SimilarCustomerID, SimilarityScore)\n",
      "C0001: [('C0064', np.float64(0.9940102407550767)), ('C0018', np.float64(0.972669967845418)), ('C0119', np.float64(0.9432510245409608))]\n",
      "C0002: [('C0062', np.float64(0.995441876038633)), ('C0144', np.float64(0.9879866705716347)), ('C0159', np.float64(0.9847040148612596))]\n",
      "C0003: [('C0031', np.float64(0.9929580952007752)), ('C0026', np.float64(0.9735282434433666)), ('C0149', np.float64(0.965058188707725))]\n",
      "C0004: [('C0065', np.float64(0.9653495192841488)), ('C0018', np.float64(0.9584286072475859)), ('C0064', np.float64(0.9062555006090786))]\n",
      "C0005: [('C0197', np.float64(0.9915238390463919)), ('C0163', np.float64(0.9282015921704501)), ('C0080', np.float64(0.07153122007589155))]\n",
      "C0006: [('C0079', np.float64(0.9999876034472264)), ('C0135', np.float64(0.9893587558577273)), ('C0187', np.float64(0.9856334087795102))]\n",
      "C0007: [('C0140', np.float64(0.9881078037379301)), ('C0069', np.float64(0.9858371250899015)), ('C0095', np.float64(0.9805533913874722))]\n",
      "C0008: [('C0075', np.float64(0.9783382250394608)), ('C0145', np.float64(0.9776383532625351)), ('C0045', np.float64(0.9694381775675958))]\n",
      "C0009: [('C0092', np.float64(0.9800287154736155)), ('C0072', np.float64(0.9598478384426021)), ('C0080', np.float64(0.11023735775213783))]\n",
      "C0010: [('C0142', np.float64(0.9914168741268036)), ('C0132', np.float64(0.9763800260974196)), ('C0153', np.float64(0.9111376708103023))]\n",
      "C0011: [('C0094', np.float64(0.9341675498260632)), ('C0032', np.float64(0.9140892062395279)), ('C0156', np.float64(0.8582232011240998))]\n",
      "C0012: [('C0065', np.float64(0.059404710306536115)), ('C0141', np.float64(0.05788033028523792)), ('C0156', np.float64(0.05257631368167582))]\n",
      "C0013: [('C0105', np.float64(0.9860678515455352)), ('C0101', np.float64(0.98566912696551)), ('C0056', np.float64(0.9200551275229051))]\n",
      "C0014: [('C0097', np.float64(0.9986952519512081)), ('C0110', np.float64(0.9832531492548383)), ('C0151', np.float64(0.9761271067873828))]\n",
      "C0015: [('C0123', np.float64(0.9900898524389266)), ('C0073', np.float64(0.9599937009832431)), ('C0137', np.float64(0.929615738598772))]\n",
      "C0016: [('C0107', np.float64(0.9894671194667096)), ('C0192', np.float64(0.9687815737289105)), ('C0044', np.float64(0.06279451328896535))]\n",
      "C0017: [('C0190', np.float64(0.9798833266621146)), ('C0109', np.float64(0.10758679649278416)), ('C0065', np.float64(0.09865723795057967))]\n",
      "C0018: [('C0064', np.float64(0.9796199637847592)), ('C0001', np.float64(0.972669967845418)), ('C0004', np.float64(0.9584286072475859))]\n",
      "C0019: [('C0191', np.float64(0.9766052849527728)), ('C0112', np.float64(0.9587092722793957)), ('C0125', np.float64(0.9526582113520369))]\n",
      "C0020: [('C0130', np.float64(0.999582491126444)), ('C0120', np.float64(0.9820396031223106)), ('C0080', np.float64(0.14357862495031362))]\n"
     ]
    }
   ],
   "source": [
    "# Making Lookalike Map\n",
    "def display_lookalike_map():\n",
    "    print(\"Lookalike Map: CustomerID -> List of (SimilarCustomerID, SimilarityScore)\")\n",
    "    for cust_id, similars in lookalike_map.items():\n",
    "        print(f\"{cust_id}: {similars}\")\n",
    "\n",
    "display_lookalike_map()"
   ]
  },
  {
   "cell_type": "code",
   "execution_count": null,
   "metadata": {},
   "outputs": [],
   "source": []
  },
  {
   "cell_type": "code",
   "execution_count": null,
   "metadata": {},
   "outputs": [],
   "source": []
  },
  {
   "cell_type": "code",
   "execution_count": null,
   "metadata": {},
   "outputs": [],
   "source": []
  },
  {
   "cell_type": "code",
   "execution_count": null,
   "metadata": {},
   "outputs": [],
   "source": []
  },
  {
   "cell_type": "code",
   "execution_count": null,
   "metadata": {},
   "outputs": [],
   "source": []
  },
  {
   "cell_type": "code",
   "execution_count": null,
   "metadata": {},
   "outputs": [],
   "source": []
  },
  {
   "cell_type": "code",
   "execution_count": null,
   "metadata": {},
   "outputs": [],
   "source": []
  }
 ],
 "metadata": {
  "kernelspec": {
   "display_name": "venv",
   "language": "python",
   "name": "python3"
  },
  "language_info": {
   "codemirror_mode": {
    "name": "ipython",
    "version": 3
   },
   "file_extension": ".py",
   "mimetype": "text/x-python",
   "name": "python",
   "nbconvert_exporter": "python",
   "pygments_lexer": "ipython3",
   "version": "3.10.0"
  }
 },
 "nbformat": 4,
 "nbformat_minor": 2
}
